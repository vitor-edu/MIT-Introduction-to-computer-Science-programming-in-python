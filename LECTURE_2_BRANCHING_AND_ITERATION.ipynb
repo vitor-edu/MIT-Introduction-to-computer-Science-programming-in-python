{
  "nbformat": 4,
  "nbformat_minor": 0,
  "metadata": {
    "colab": {
      "name": "LECTURE 2: BRANCHING AND ITERATION.ipynb",
      "provenance": [],
      "collapsed_sections": []
    },
    "kernelspec": {
      "name": "python3",
      "display_name": "Python 3"
    },
    "language_info": {
      "name": "python"
    }
  },
  "cells": [
    {
      "cell_type": "code",
      "execution_count": null,
      "metadata": {
        "id": "DjYaK0PvyPl5"
      },
      "outputs": [],
      "source": [
        "import random "
      ]
    },
    {
      "cell_type": "code",
      "source": [
        "random.randint(10, 100) # gerando numeros randomicos"
      ],
      "metadata": {
        "colab": {
          "base_uri": "https://localhost:8080/"
        },
        "id": "cwy64_fUyg-2",
        "outputId": "15b41b33-205e-451c-90ef-b92edb9d872e"
      },
      "execution_count": null,
      "outputs": [
        {
          "output_type": "execute_result",
          "data": {
            "text/plain": [
              "30"
            ]
          },
          "metadata": {},
          "execution_count": 3
        }
      ]
    },
    {
      "cell_type": "code",
      "source": [
        "hi = \"hello there\"\n",
        "hi"
      ],
      "metadata": {
        "colab": {
          "base_uri": "https://localhost:8080/",
          "height": 35
        },
        "id": "bJUKwtR73bg8",
        "outputId": "5f256a1a-a33b-423b-f614-d365b1ecd258"
      },
      "execution_count": null,
      "outputs": [
        {
          "output_type": "execute_result",
          "data": {
            "text/plain": [
              "'hello there'"
            ],
            "application/vnd.google.colaboratory.intrinsic+json": {
              "type": "string"
            }
          },
          "metadata": {},
          "execution_count": 6
        }
      ]
    },
    {
      "cell_type": "code",
      "source": [
        "name = \"ana\""
      ],
      "metadata": {
        "id": "Tz4zxlr-3vz8"
      },
      "execution_count": null,
      "outputs": []
    },
    {
      "cell_type": "code",
      "source": [
        "greet =  hi + \" \" + name\n",
        "greet"
      ],
      "metadata": {
        "colab": {
          "base_uri": "https://localhost:8080/",
          "height": 35
        },
        "id": "TKRenf8n34TL",
        "outputId": "35925c4d-4905-47b0-f1e1-4abb56604814"
      },
      "execution_count": null,
      "outputs": [
        {
          "output_type": "execute_result",
          "data": {
            "text/plain": [
              "'hello there ana'"
            ],
            "application/vnd.google.colaboratory.intrinsic+json": {
              "type": "string"
            }
          },
          "metadata": {},
          "execution_count": 9
        }
      ]
    },
    {
      "cell_type": "code",
      "source": [
        "silly = hi + \" \" + name * 3\n",
        "silly"
      ],
      "metadata": {
        "colab": {
          "base_uri": "https://localhost:8080/",
          "height": 35
        },
        "id": "96ZV72CQ4FzW",
        "outputId": "3362b3e7-eb0b-48b6-85a1-d070191e3a04"
      },
      "execution_count": null,
      "outputs": [
        {
          "output_type": "execute_result",
          "data": {
            "text/plain": [
              "'hello there anaanaana'"
            ],
            "application/vnd.google.colaboratory.intrinsic+json": {
              "type": "string"
            }
          },
          "metadata": {},
          "execution_count": 11
        }
      ]
    },
    {
      "cell_type": "code",
      "source": [
        "silly = hi + (\" \" + name) * 3 \n",
        "silly"
      ],
      "metadata": {
        "colab": {
          "base_uri": "https://localhost:8080/",
          "height": 35
        },
        "id": "4UfHCMPr7M3x",
        "outputId": "5d8b6e74-7695-448f-caa2-7c4393b83382"
      },
      "execution_count": null,
      "outputs": [
        {
          "output_type": "execute_result",
          "data": {
            "text/plain": [
              "'hello there ana ana ana'"
            ],
            "application/vnd.google.colaboratory.intrinsic+json": {
              "type": "string"
            }
          },
          "metadata": {},
          "execution_count": 13
        }
      ]
    },
    {
      "cell_type": "code",
      "source": [
        "x = 1\n",
        "print(x)\n",
        "type(x)"
      ],
      "metadata": {
        "colab": {
          "base_uri": "https://localhost:8080/"
        },
        "id": "drYEBtZh72yU",
        "outputId": "51aeeb3d-4e88-448d-efa0-a61e70a79be9"
      },
      "execution_count": null,
      "outputs": [
        {
          "output_type": "stream",
          "name": "stdout",
          "text": [
            "1\n"
          ]
        },
        {
          "output_type": "execute_result",
          "data": {
            "text/plain": [
              "int"
            ]
          },
          "metadata": {},
          "execution_count": 21
        }
      ]
    },
    {
      "cell_type": "code",
      "source": [
        "x_str = str(x) # casting\n",
        "type(x_str)"
      ],
      "metadata": {
        "colab": {
          "base_uri": "https://localhost:8080/"
        },
        "id": "vrTMdeGF8DGl",
        "outputId": "ac18eea4-cb2f-4053-a75a-2360cb27a390"
      },
      "execution_count": null,
      "outputs": [
        {
          "output_type": "execute_result",
          "data": {
            "text/plain": [
              "str"
            ]
          },
          "metadata": {},
          "execution_count": 27
        }
      ]
    },
    {
      "cell_type": "code",
      "source": [
        "print(\"my fav num is\", x, \".\", \"x = \", x)"
      ],
      "metadata": {
        "colab": {
          "base_uri": "https://localhost:8080/"
        },
        "id": "sV6A0aiF8VMx",
        "outputId": "1a0705af-ba24-4f60-fd72-58dfcc562508"
      },
      "execution_count": null,
      "outputs": [
        {
          "output_type": "stream",
          "name": "stdout",
          "text": [
            "my fav num is 1 . x =  1\n"
          ]
        }
      ]
    },
    {
      "cell_type": "code",
      "source": [
        "print(\"my fav num is \" +  x_str + \".\" + \"x = \" + x_str)"
      ],
      "metadata": {
        "colab": {
          "base_uri": "https://localhost:8080/"
        },
        "id": "4UD4lNe79snc",
        "outputId": "eedb2cdb-5fe5-46f2-ed57-f5c819dc5078"
      },
      "execution_count": null,
      "outputs": [
        {
          "output_type": "stream",
          "name": "stdout",
          "text": [
            "my fav num is 1.x = 1\n"
          ]
        }
      ]
    },
    {
      "cell_type": "code",
      "source": [
        "text = input(\"type anything\") # input\n",
        "# 5 * text\n",
        "print(5*text)"
      ],
      "metadata": {
        "colab": {
          "base_uri": "https://localhost:8080/"
        },
        "id": "A8KI02dx-RG8",
        "outputId": "66d234b1-fea4-4cb3-b344-d546aa8f1e72"
      },
      "execution_count": null,
      "outputs": [
        {
          "output_type": "stream",
          "name": "stdout",
          "text": [
            "type anythinga\n",
            "aaaaa\n"
          ]
        }
      ]
    },
    {
      "cell_type": "code",
      "source": [
        "num = int(input(\"type a number\"))\n",
        "5 * num \n"
      ],
      "metadata": {
        "colab": {
          "base_uri": "https://localhost:8080/"
        },
        "id": "25hQENC7AftK",
        "outputId": "4829ff6e-6136-4355-b34a-fae96ad3a27a"
      },
      "execution_count": null,
      "outputs": [
        {
          "name": "stdout",
          "output_type": "stream",
          "text": [
            "type a number88\n"
          ]
        },
        {
          "output_type": "execute_result",
          "data": {
            "text/plain": [
              "440"
            ]
          },
          "metadata": {},
          "execution_count": 39
        }
      ]
    },
    {
      "cell_type": "code",
      "source": [
        "x = float (input(\"Enter a number for x: \")) # if else\n",
        "y = float (input(\"Enter a number for y: \"))\n",
        "if x == y:\n",
        "  print(\"x e y são iguais\")\n",
        "  if y != 0:\n",
        "    print(\"therefore, x / y is\", x/y) \n",
        "  elif x < y:\n",
        "    print(\"x é menor\")  \n",
        "  else:\n",
        "    print(\"y é menor\") \n",
        "  print(\"thanks\")   "
      ],
      "metadata": {
        "id": "fz4xdjyOA4gH",
        "colab": {
          "base_uri": "https://localhost:8080/"
        },
        "outputId": "c83f91a5-4c4c-4453-b1bf-d7eaafbe8fb6"
      },
      "execution_count": null,
      "outputs": [
        {
          "name": "stdout",
          "output_type": "stream",
          "text": [
            "Enter a number for x: 10\n",
            "Enter a number for y: 20\n"
          ]
        }
      ]
    },
    {
      "cell_type": "code",
      "source": [
        "n = input(\"You are in the lost florest. Go left or certo\") \n",
        "while n == \"right\":\n",
        "  n = input(\"You are in the lost florest. Go left or certo?\")  \n",
        "print(\"you got out of the lost forest\")   "
      ],
      "metadata": {
        "colab": {
          "base_uri": "https://localhost:8080/"
        },
        "id": "hhZhbhKh3zI6",
        "outputId": "f6a5ed37-ad0a-4597-e2f1-f4bb75347f0c"
      },
      "execution_count": null,
      "outputs": [
        {
          "name": "stdout",
          "output_type": "stream",
          "text": [
            "You are in the lost florest. Go left or certo?right\n"
          ]
        }
      ]
    },
    {
      "cell_type": "code",
      "source": [
        "n = 0 \n",
        "while n < 5:\n",
        "  print(n)\n",
        "  n = n+1\n",
        " n "
      ],
      "metadata": {
        "id": "Ml7EdIr4xEPT",
        "colab": {
          "base_uri": "https://localhost:8080/"
        },
        "outputId": "ead59107-9762-4c82-8dff-32b51a8de5d1"
      },
      "execution_count": 1,
      "outputs": [
        {
          "output_type": "stream",
          "name": "stdout",
          "text": [
            "0\n",
            "1\n",
            "2\n",
            "3\n",
            "4\n"
          ]
        }
      ]
    },
    {
      "cell_type": "code",
      "source": [
        "for n in range(5):\n",
        "  print(n)\n",
        "  n\n"
      ],
      "metadata": {
        "colab": {
          "base_uri": "https://localhost:8080/"
        },
        "id": "PHLFu0lYmvXs",
        "outputId": "6a58b8d3-bdd8-4056-cf17-4681b6e6e964"
      },
      "execution_count": 3,
      "outputs": [
        {
          "output_type": "stream",
          "name": "stdout",
          "text": [
            "0\n",
            "1\n",
            "2\n",
            "3\n",
            "4\n"
          ]
        }
      ]
    },
    {
      "cell_type": "code",
      "source": [
        "mysum = 0 \n",
        "for i in range(7, 11): \n",
        "  mysum += i  \n",
        "  #mysum = mysum + 1\n",
        "mysum"
      ],
      "metadata": {
        "colab": {
          "base_uri": "https://localhost:8080/"
        },
        "id": "F9jvtnYSouME",
        "outputId": "cf88a061-544d-4aa9-a59a-1fbbe944aabb"
      },
      "execution_count": 22,
      "outputs": [
        {
          "output_type": "execute_result",
          "data": {
            "text/plain": [
              "34"
            ]
          },
          "metadata": {},
          "execution_count": 22
        }
      ]
    },
    {
      "cell_type": "code",
      "source": [
        "mysum = 0 \n",
        "for i in range(5, 11, 2): \n",
        "  mysum += i  \n",
        "  #mysum = mysum + 1\n",
        "mysum"
      ],
      "metadata": {
        "colab": {
          "base_uri": "https://localhost:8080/"
        },
        "id": "Ql6J5Y58pkRr",
        "outputId": "6bc6825f-2238-4824-e44a-419f9ab85554"
      },
      "execution_count": 24,
      "outputs": [
        {
          "output_type": "execute_result",
          "data": {
            "text/plain": [
              "21"
            ]
          },
          "metadata": {},
          "execution_count": 24
        }
      ]
    },
    {
      "cell_type": "code",
      "source": [
        "mysum = 0 \n",
        "for i in range(3, 15, 3):  #3 + 6 + 9 + 12 \n",
        "  mysum += i  \n",
        "  #mysum = mysum + 1\n",
        "mysum"
      ],
      "metadata": {
        "colab": {
          "base_uri": "https://localhost:8080/"
        },
        "id": "pfdxQVm-ptPz",
        "outputId": "d04e89ca-c2b7-419e-9a1e-5cb7ad0f865d"
      },
      "execution_count": 26,
      "outputs": [
        {
          "output_type": "execute_result",
          "data": {
            "text/plain": [
              "30"
            ]
          },
          "metadata": {},
          "execution_count": 26
        }
      ]
    }
  ]
}